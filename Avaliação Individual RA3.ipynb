{
  "nbformat": 4,
  "nbformat_minor": 0,
  "metadata": {
    "colab": {
      "provenance": [],
      "include_colab_link": true
    },
    "kernelspec": {
      "name": "python3",
      "display_name": "Python 3"
    },
    "language_info": {
      "name": "python"
    }
  },
  "cells": [
    {
      "cell_type": "markdown",
      "metadata": {
        "id": "view-in-github",
        "colab_type": "text"
      },
      "source": [
        "<a href=\"https://colab.research.google.com/github/Berdegeus/Modelagem-de-fenomenos-fisicos/blob/main/Avalia%C3%A7%C3%A3o%20Individual%20RA3.ipynb\" target=\"_parent\"><img src=\"https://colab.research.google.com/assets/colab-badge.svg\" alt=\"Open In Colab\"/></a>"
      ]
    },
    {
      "cell_type": "markdown",
      "source": [
        "# Avaliação de Recuperação RA2 - 2024-1\n",
        "\n",
        "**Antes de começar, leia estas instruções cuidadosamente.**\n",
        "Esta avaliação é individual. Você poderá consultar qualquer fonte disponível na biblioteca, suas anotações ou na internet. Você não pode consultar outras pessoas mesmo por meio eletrônico.\n",
        "\n",
        "**Crie uma cópia deste caderno agora!** E continue lendo as instruções nesta cópia.\n",
        "\n",
        "**Não existirão prorrogações de prazo de entrega.** Se programe para entregar sua avaliação 5 minutos antes do fim do prazo para evitar imprevistos de última hora.\n",
        "\n",
        "**Trabalhos idênticos entregues por pessoas, diferentes, serão zerados.** Todos os trabalhos poderão ser submetidos a verificação de plágio. Por meio do sistema de instituição ou outro qualquer disponível na internet. Isso significa que respostas copiadas e coladas de sistemas de inteligência artificial que sejam classificados com semelhança maior que 70% também serão zerados. Qualquer diagnóstico indicativo de plágio acima de 70% também irá provocar o zeramento da avaliação.\n",
        "\n",
        "Para que sua avaliação seja considerada **ela deve ser entregues em uma cópia deste caderno de atividades na forma de um link postado no AVA da instituição (Canvas)** apenas no local correspondente a essa entrega na avaliação. Qualquer link enviado em comentários, e-mails, mensagens de Whatsapp, ou qualquer outro meio eletrônico serão ignorados provocando o zeramento desta avaliação.\n",
        "\n",
        "Entrega será realizada com a postagem de um link apontando para um ambiente de execução, no AVA da institução. Neste link o **seu caderno deve permitir ser executado (permissão de leitor)**. Serão aceitos links diretos ao ambiente do Google Colaboratory, ou Links a um caderno do Google Colaboratory que tenha sido **salvo pelo próprio Google Colaboratory** no GitHub. Links para outro ambiente, ou que requeiram qualquer tipo de **download, cliques extras, ou ainda, que requeiram aprovação para acesso, provocarão o zeramento desta avaliação**.\n",
        "\n",
        "Antes de enviar o seu trabalho, teste o compartilhamento em uma aba anônima do seu navegador web preferido.\n",
        "\n",
        "Todos os enunciados devem ser preservados e você deverá inserir uma célula de textos com o **seu nome, IMEDIATATAMENTE APÓS esta célula de texto** onde estão estas instruções.\n",
        "\n",
        "**Qualquer alteração do caderno contendo as suas respostas que seja registrada após a data de postagem provocará a anulação da avaliação**.\n",
        "\n",
        "Você poderá usar, nas suas respostas, só e somente só, a **linguagem Python** limitada ao uso das seguintes bibliotecas: **math, numpy, sympy, matplotlib, ipWidgets e IPython**. O uso de qualquer biblioteca não listada nestas instruções irá provocar o zeramento da questão.\n",
        "\n",
        "**Todo e qualquer gráfico que usar nas suas respostas deverá ser criado usando o Python**.\n",
        "\n",
        "**Todas as questões devem ser respondidas em caixas de texto, usando latex para permitir a renderização com qualidade matemática.** Exceto quando a questão indicar que você pode usar qualquer técnica computacional. Neste caso, as técnicas estarão limitadas as técnicas vistas em sala e as técnicas baseadas no retângulo de Reimann.\n",
        "\n",
        "Não é permitido usar qualquer técnica matemática baseada em cálculo numérico, séries de Taylor. de Leibntz, ou de qualquer outro tipo, ou ainda conhecimento matemático que fuja dos conteúdos apresenados em aula referentes ao estudo da integração.\n",
        "\n",
        "**Você poderá utilizar técnicas numéricas para calcular áreas, ou para encontrar o polinômio referente a um dado conjunto de pontos. Ainda a sim, sua resposta deve ser explicada em uma caixa de textos, usando latex para as equações matemáticas. Ainda assim, estas técnicas estão limitadas as técnicas apresentadas em sala (Reimann, Lagrange)**.\n",
        "\n",
        "**Esta avaliação está limitada a conteúdo de técnicas, regras e conceitos de integração**. Porém, pode ocorrer a necessidade do uso dos conceitos e técnicas de limites, ou derivadas para a solução das questões. Neste caso, o uso de técnicas de derivação está limitado as técnicas apresentadas em sala. Estando exclúidos qualquer método que inclua o uso de séries.\n",
        "\n",
        "Se você encontrar algo errado nesta avaliação anote suas observações na própria questão. Suas observações serão consideradas durante a avaliação e, em caso de pertinência, poderão encejar a anulação do item, ou da questão relacionados ao erro que você encontrou de acordo com os critérios do professor.\n",
        "\n",
        "**ATENÇÃO: TODAS AS QUESTÕES DEVEM SER RESPONDIDAS NA CÉLULA EM BRANCO QUE EXISTE APÓS CADA ENUNCIADO. OS ENUNCIADOS TÊM QUE SER PRESERVADOS.** Se, por algum motivo, ao fazer a cópia deste caderno de questões você perca as células em branco, deve criar uma nova célula após cada enunciado para colocar sua resposta. Você poderá criar quantas células de texto, ou código, que precisar desde que estas células estejam entre a questão que você está respondendo e a próxima questão deste caderno.\n",
        "\n",
        "**Lembrem-se a interpretação faz parte da questão.**\n",
        "\n",
        "**Rubrica de Avaliação**: As questões serão consideradas corretas se, e somente se, apresentarem a resposta correta, o processo algébrico estiver claro, completo e conciso (nenhuma passagem não explicada), os gráficos contiverem todas as informações necessárias ao seu entendimento.\n",
        "\n",
        "## Regras de Integração\n",
        "\n",
        "### Regras de Integração em Português\n",
        "\n",
        "$$\n",
        "\\int k \\, dx = kx + C, \\quad \\text{onde } k \\text{ é uma constante}\n",
        "$$\n",
        "\n",
        "$$\n",
        "\\int x^n \\, dx = \\frac{1}{n + 1} x^{n + 1} + C, \\quad \\text{se } n \\neq -1\n",
        "$$\n",
        "\n",
        "$$\n",
        "\\int \\frac{1}{x} \\, dx = \\ln |x| + C\n",
        "$$\n",
        "\n",
        "$$\n",
        "\\int k f(x) \\, dx = k \\int f(x) \\, dx\n",
        "$$\n",
        "\n",
        "$$\n",
        "\\int \\left( f(x) \\pm g(x) \\right) \\, dx = \\int f(x) \\, dx \\pm \\int g(x) \\, dx\n",
        "$$\n",
        "\n",
        "$$\n",
        "\\int \\sin x \\, dx = -\\cos x + C\n",
        "$$\n",
        "\n",
        "$$\n",
        "\\int \\cos x \\, dx = \\sin x + C\n",
        "$$\n",
        "\n",
        "$$\n",
        "\\int e^x \\, dx = e^x + C\n",
        "$$\n"
      ],
      "metadata": {
        "id": "vgXVkO9FGMwU"
      }
    },
    {
      "cell_type": "markdown",
      "source": [
        "# Questão 1 - Vale até 1 ponto\n",
        "Em uma região desértica, pesquisadores estão estudando o crescimento de uma espécie rara de cacto. O crescimento do cacto ao longo do tempo é modelado pela função $y = x^5(2 - x)$, onde $y$ representa a altura do cacto em metros e $x$ representa o tempo em anos desde o início do estudo. Os pesquisadores querem determinar a quantidade total de biomassa acumulada pelo cacto ao longo dos primeiros 2 anos. Sabemos, de estudos anteriores que a biomassa acumulada é proporcional a área sob a curva de crescimento do cacto ao longo do tempo. Determine a área sob a curva da função $y = x^5(2 - x)$ nestes dois anos.\n",
        "\n"
      ],
      "metadata": {
        "id": "vT6WZq9ZKd-r"
      }
    },
    {
      "cell_type": "markdown",
      "source": [
        "$$\n",
        "\\int_{0}^{2} x^5(2 - x) \\, dx\n",
        "$$\n",
        "\n",
        "Separando a integral:\n",
        "\n",
        "$$\n",
        "\\int_{0}^{2} (2x^5 - x^6) \\, dx = \\int_{0}^{2} 2x^5 \\, dx - \\int_{0}^{2} x^6 \\, dx\n",
        "$$\n",
        "\n",
        "Calculando cada integral separadamente:\n",
        "\n",
        "1. $$\\int_{0}^{2} 2x^5 \\, dx\\$$:\n",
        "\n",
        "$$\n",
        "2 \\int x^5 \\, dx = 2 \\left( \\frac{x^6}{6} \\right) = \\frac{2x^6}{6} = \\frac{x^6}{3}\n",
        "$$\n",
        "\n",
        "2. $$\\int_{0}^{2} x^6 \\, dx\\$$:\n",
        "\n",
        "$$\n",
        "\\int x^6 \\, dx = \\frac{x^7}{7}\n",
        "$$\n",
        "\n",
        "Agora, substituímos esses resultados na integral original:\n",
        "\n",
        "$$\n",
        "\\int_{0}^{2} (2x^5 - x^6) \\, dx = \\left[ \\frac{x^6}{3} \\right]{0}^{2} - \\left[ \\frac{x^7}{7} \\right]{0}^{2}\n",
        "$$\n",
        "\n",
        "Calculando os valores:\n",
        "\n",
        "Para $$\\left[ \\frac{x^6}{3} \\right]_{0}^{2}\\$$:\n",
        "\n",
        "$$\n",
        "\\left. \\frac{x^6}{3} \\right|_{0}^{2} = \\frac{2^6}{3} - \\frac{0^6}{3} = \\frac{64}{3} - 0 = \\frac{64}{3}\n",
        "$$\n",
        "\n",
        "Para $$\\left[ \\frac{x^7}{7} \\right]_{0}^{2}\\$$:\n",
        "\n",
        "$$\n",
        "\\left. \\frac{x^7}{7} \\right|_{0}^{2} = \\frac{2^7}{7} - \\frac{0^7}{7} = \\frac{128}{7} - 0 = \\frac{128}{7}\n",
        "$$\n",
        "\n",
        "Agora subtraímos esses resultados:\n",
        "\n",
        "$$\n",
        "\\int_{0}^{2} (2x^5 - x^6) \\, dx = \\frac{64}{3} - \\frac{128}{7}\n",
        "$$\n",
        "\n",
        "Para subtrair essas frações, precisamos de um denominador comum:\n",
        "\n",
        "$$\n",
        "\\frac{64}{3} = \\frac{64 \\cdot 7}{3 \\cdot 7} = \\frac{448}{21}\n",
        "$$\n",
        "\n",
        "$$\n",
        "\\frac{128}{7} = \\frac{128 \\cdot 3}{7 \\cdot 3} = \\frac{384}{21}\n",
        "$$\n",
        "\n",
        "Subtraindo:\n",
        "\n",
        "$$\n",
        "\\frac{448}{21} - \\frac{384}{21} = \\frac{448 - 384}{21} = \\frac{64}{21}\n",
        "$$\n",
        "\n",
        "Portanto, a área sob a curva \\(y = x^5(2 - x)\\) ao longo dos primeiros 2 anos é:\n",
        "\n",
        "$$\n",
        "\\boxed{\\frac{64}{21}}\n",
        "$$"
      ],
      "metadata": {
        "id": "wIQLbqiZGKnk"
      }
    },
    {
      "cell_type": "markdown",
      "source": [
        "# Questão 2 - Vale até 1 ponto\n",
        "Usando o Python (matplotlib, sympy e numpy) trace o gráfico e calcule a área sob a função $(x) = x^5(2 - x)$ para $0 \\leq x \\leq 2$. Não esqueça de anotar os pontos, hachurar a área calculada e de imprimir o valor da área encontrada."
      ],
      "metadata": {
        "id": "aTU7tNRaMY4w"
      }
    },
    {
      "cell_type": "code",
      "source": [
        "import numpy as np\n",
        "import matplotlib.pyplot as plt\n",
        "\n",
        "# Definindo a função\n",
        "def F(x):\n",
        "    return x**5 * (2 - x)\n",
        "\n",
        "# Criando um array de valores de x de 0 a 2\n",
        "x_values = np.linspace(0, 2, 1000)\n",
        "\n",
        "# Calculando os valores de y correspondentes\n",
        "y_values = F(x_values)\n",
        "\n",
        "# Plotando o gráfico da função\n",
        "plt.plot(x_values, y_values, 'b', label='F(x)')\n",
        "\n",
        "# Preenchendo a área sob a curva\n",
        "plt.fill_between(x_values, y_values, color='skyblue', alpha=0.5)\n",
        "\n",
        "# Marcando os pontos (0,0) e (2,0)\n",
        "plt.scatter([0, 2], [0, 0], color='red')\n",
        "plt.text(0, -0.05, '(0, 0)', fontsize=10, ha='center')\n",
        "plt.text(2, -0.05, '(2, 0)', fontsize=10, ha='center')\n",
        "\n",
        "# Adicionando rótulos e título\n",
        "plt.xlabel('x')\n",
        "plt.ylabel('F(x)')\n",
        "plt.title('Área sob a curva F(x)')\n",
        "\n",
        "# Adicionando legenda e grid\n",
        "plt.legend()\n",
        "plt.grid(True)\n",
        "\n",
        "# Mostrando o gráfico\n",
        "plt.show()\n",
        "\n",
        "# Calculando a área sob a curva\n",
        "area = np.trapz(y_values, x_values)\n",
        "print(\"Área sob a curva: \", area)\n"
      ],
      "metadata": {
        "colab": {
          "base_uri": "https://localhost:8080/",
          "height": 489
        },
        "id": "Web2frziFdAL",
        "outputId": "6d540856-eeff-4946-c64a-3f433407d3cc"
      },
      "execution_count": null,
      "outputs": [
        {
          "output_type": "display_data",
          "data": {
            "text/plain": [
              "<Figure size 640x480 with 1 Axes>"
            ],
            "image/png": "[encoded data removed]"
          },
          "metadata": {}
        },
        {
          "output_type": "stream",
          "name": "stdout",
          "text": [
            "Área sob a curva:  3.047608359597714\n"
          ]
        }
      ]
    },
    {
      "cell_type": "markdown",
      "source": [
        "# Questão 3 - Vale até 1 ponto\n",
        "\n",
        "A aceleração de um objeto é dada por $a(t) = \\cos(\\pi t)$, e sua velocidade no tempo $t = 0$ é $\\frac{1}{2\\pi}$. Usando apenas álgebra, encontre a distância total percorrida por este objeto nos primeiros $1,5$ segundos deste movimento. Dica: antes de calcular qualquer coisa verifique cuidadosamente a equação da aceleração. Não é necessário, mas talvez seja interessante, traçar um gráfico da aceleração e outro da velocidade para entender o problema. É necessário entender o movimento do objeto para saber quanto espaço ele percorreu.\n",
        "\n",
        "\n",
        "\n"
      ],
      "metadata": {
        "id": "-iPLzLPUNge9"
      }
    },
    {
      "cell_type": "markdown",
      "source": [
        "primeiro encontrar a funcao da velocidade:\n",
        "\n",
        "$$v(t) = \\int a(t) dt  $$\n",
        "$$v(t) = \\int \\cos(πt) dt  $$\n",
        "integrando temos que:\n",
        "\n",
        "$$v(t) =\\frac{\\sin(πt)}{π} + C  $$\n",
        "\n",
        "sabendo que quando $t = 0$ é $ \\frac {1}{2π}$ podemos comparar com v(t) para encontrar o valor de C\n",
        "$$ \\frac{\\sin(0)}{π} + C = \\frac {1}{2π}$$\n",
        "\n",
        "$$ C = \\frac {1}{2π}$$\n",
        "$$ \\frac{\\sin(\\pi t )}{π}  + \\frac {1}{2π} $$\n",
        "\n",
        "agora encontrar a funcao de posicao\n",
        "\n",
        "$$ s(t) = \\int \\frac{\\sin(\\pi t )}{π}  + \\frac {1}{2π} dt$$\n",
        "\n",
        "integrando e repetindo mesmo processo para descobrir C temos que:\n",
        "\n",
        "$$ s(t) = - \\frac{\\cos(\\pi t )}{π^2}  + \\frac {t}{2π} + C $$\n",
        "\n",
        "sabendo que t= 0 é 0 para a posicao\n",
        "\n",
        "$$ - \\frac{\\cos(0 )}{π^2}  + \\frac {0}{2π} + C = 0$$\n",
        "\n",
        "$$ - \\frac{1}{π^2} = -C$$\n",
        "$$ \\frac{1}{π^2} = C$$\n",
        "\n",
        "entao a funcao de posicao é:\n",
        "\n",
        "$$s = - \\frac{\\cos(\\pi t )}{π^2}  + \\frac {t}{2π} + \\frac{1}{π^2} $$\n",
        "\n",
        "\n",
        "por fim calculamos a distancia final percorrida em 1.5sec:\n",
        "\n",
        "$$ Distancia = s(1.5) - s(0)$$\n",
        "\n",
        "$$ s(1.5) = - \\frac{\\cos(\\pi (1.5) )}{π^2}  + \\frac {1.5}{2π} + \\frac{1}{π^2}$$\n",
        "\n",
        "$$ \\frac {0}{π^2} + \\frac {1.5}{2\\pi} + \\frac{1}{\\pi^2} = 0,34$$\n",
        "agora calculamos s(0)\n",
        "\n",
        "$$s(0) = - \\frac{\\cos(\\pi (0) )}{π^2}  + \\frac {0}{2π} + \\frac{1}{π^2} $$\n",
        "\n",
        "$$s(0) = - \\frac{\\cos(\\pi (0) )}{π^2}  + \\frac {0}{2π} + \\frac{1}{π^2} $$\n",
        "\n",
        "$$ s(0) = 0 $$\n",
        "\n",
        "portanto a distancia total percorrida é 0,34\n"
      ],
      "metadata": {
        "id": "OiPLLNTWKLzs"
      }
    },
    {
      "cell_type": "markdown",
      "source": [
        "# Questão 4 - Vale até 1 ponto\n",
        "\n",
        "Encontre a área limitada por $f(x) = -x^2 + 4x + 1$, $g(x) = -x^3 + 7x^2 - 10x + 3$ para  $1\\leq x \\leq 2$. Nesta questão você pode usar álgebra, ou Python, considerando as limitações de bibliotecas definidas para esta avaliação.  \n"
      ],
      "metadata": {
        "id": "CMdRv02PAz38"
      }
    },
    {
      "cell_type": "code",
      "source": [
        "import sympy as sp\n",
        "\n",
        "# Definindo as variáveis e as funções\n",
        "x = sp.symbols('x')\n",
        "f = -x**2 + 4*x + 1\n",
        "g = -x**3 + 7*x**2 - 10*x + 3\n",
        "\n",
        "# Definindo a função que representa a diferença absoluta entre f(x) e g(x)\n",
        "difference_function = sp.Abs(f - g)\n",
        "\n",
        "# Calculando a integral para encontrar a área\n",
        "total_area = sp.integrate(difference_function, (x, 1, 2))\n",
        "\n",
        "print(\"A área limitada pelas duas curvas é:\", total_area.evalf())\n"
      ],
      "metadata": {
        "colab": {
          "base_uri": "https://localhost:8080/"
        },
        "id": "MahUERAeRXZi",
        "outputId": "760b2ced-0806-4a8b-ff6f-ee7f83957433"
      },
      "execution_count": null,
      "outputs": [
        {
          "output_type": "stream",
          "name": "stdout",
          "text": [
            "A área limitada pelas duas curvas é: 4.08333333333333\n"
          ]
        }
      ]
    },
    {
      "cell_type": "markdown",
      "source": [
        "# Questão 5 - Vale até 1 ponto\n",
        "\n",
        "Use o método dos discos para determinar o volume do sólido obtido pela rotação da região delimitada por $y = \\sqrt{x}$, $y = 3$ e o próprio eixo $y$ em torno do eixo $y$.\n"
      ],
      "metadata": {
        "id": "53zwpYIEF4fI"
      }
    },
    {
      "cell_type": "markdown",
      "source": [
        "$$ \\pi \\int_{0}^{3} (f(y))^2 dy$$\n",
        "\n",
        "já que é y em torno de y temos\n",
        "\n",
        "\n",
        "$$ \\pi \\int_{0}^{3} (y^2)^2 dy$$\n",
        "$$ \\pi \\int_{0}^{3} (y^4) dy$$\n",
        "\n",
        "integrando:\n",
        "$$ \\frac {y^5}{5} + C $$\n",
        "\n",
        "realizando a integral definida:\n",
        "$$ \\pi (\\frac{3^5}{5} -\\frac{0^5}{5} )$$\n",
        "$$ \\frac{243π}{5} = 152.68$$"
      ],
      "metadata": {
        "id": "OuhtRRpJPjAQ"
      }
    },
    {
      "cell_type": "markdown",
      "source": [
        "\n",
        "# Questão 6 - Vale até 3 pontos\n",
        "Para os problemas a e b, determine a média, usando a integração, para a funções nos intervalos especificados.\n",
        "\n",
        "a. $f(x) = 8x - 3 + 5e^{2-x}$ no intervalo $[0, 2]$ - Vale 1 ponto\n",
        "\n",
        "b. Considere que a posição de um objeto em movimento ao longo do eixo $ x $ é descrita pela função de deslocamento $ x(t) = t^3 - 6t^2 + 9t + 1 $, onde $ x(t) $ está em metros e $t$ está em segundos. Determine a velocidade média do objeto no intervalo de tempo de $ t = 1$ segundo até $t = 4$ segundos. - Vale 2 pontos"
      ],
      "metadata": {
        "id": "dr5lNibpLKmh"
      }
    },
    {
      "cell_type": "markdown",
      "source": [
        "Questão 6\n",
        "\n",
        "*Problema (a)*\n",
        "\n",
        "A função dada é $f(x) = 8x - 3 + 5e^{2-x}$ no intervalo $[0, 2]$.\n",
        "\n",
        "A média da função $f(x)$ no intervalo $[a, b]$ é dada por:\n",
        "\n",
        "$$ \\frac{1}{b-a} \\int_{a}^{b} f(x) \\, dx $$\n",
        "\n",
        "Aplicando isso ao nosso problema, temos:\n",
        "\n",
        "$$ \\frac{1}{2-0} \\int_{0}^{2} (8x - 3 + 5e^{2-x}) \\, dx $$\n",
        "$$ \\frac{1}{2} \\int_{0}^{2} (8x - 3 + 5e^{2-x}) \\, dx $$\n",
        "\n",
        "Vamos calcular a integral:\n",
        "\n",
        "$$ \\int_{0}^{2} (8x - 3 + 5e^{2-x}) \\, dx $$\n",
        "\n",
        "Podemos integrar cada termo separadamente:\n",
        "\n",
        "1. $$ \\int 8x \\, dx = 4x^2 $$\n",
        "2. $$ \\int -3 \\, dx = -3x $$\n",
        "3. Para o terceiro termo, usamos substituição $u = 2 - x$, então $du = -dx$:\n",
        "$$ \\int 5e^{2-x} \\, dx = -5 \\int e^u \\, du = -5e^u + C = -5e^{2-x} + C $$\n",
        "\n",
        "Portanto, a integral total é:\n",
        "\n",
        "$$ 4x^2 - 3x - 5e^{2-x} $$\n",
        "\n",
        "Avaliada de $0$ a $2$:\n",
        "\n",
        "$$ \\left[ 4(2)^2 - 3(2) - 5e^{2-2} \\right] - \\left[ 4(0)^2 - 3(0) - 5e^{2-0} \\right] $$\n",
        "$$ = \\left[ 16 - 6 - 5 \\right] - \\left[ 0 - 0 - 5e^2 \\right] $$\n",
        "$$ = 5 - (-5e^2) $$\n",
        "$$ = 5 + 5e^2 $$\n",
        "\n",
        "Dividindo pelo intervalo $2-0 = 2$:\n",
        "\n",
        "$$ \\frac{1}{2} (5 + 5e^2) $$\n",
        "$$ = \\frac{5 + 5e^2}{2} $$\n",
        "\n",
        "Usando $e \\approx 2.71828$:\n",
        "\n",
        "$$ \\frac{5 + 5 \\cdot 2.71828^2}{2} $$\n",
        "$$ = \\frac{5 + 5 \\cdot 7.38906}{2} $$\n",
        "$$ = \\frac{5 + 36.9453}{2} $$\n",
        "$$ = \\frac{41.9453}{2} $$\n",
        "$$ \\approx 20.97265 $$\n",
        "\n",
        "Então, o valor correto para a média é aproximadamente:\n",
        "$$ 20.97 $$\n",
        "\n",
        "*Problema (b)*\n",
        "\n",
        "A função de deslocamento é $x(t) = t^3 - 6t^2 + 9t + 1$. Precisamos determinar a velocidade média no intervalo de tempo de $t = 1$ segundo até $t = 4$ segundos.\n",
        "\n",
        "A velocidade é a derivada da função de deslocamento:\n",
        "\n",
        "$$ v(t) = \\frac{dx}{dt} = 3t^2 - 12t + 9 $$\n",
        "\n",
        "A velocidade média é dada por:\n",
        "\n",
        "$$ \\frac{1}{b-a} \\int_{a}^{b} v(t) \\, dt $$\n",
        "Neste caso, \\( a = 1 \\) e \\( b = 4 \\):\n",
        "$$ \\frac{1}{4-1} \\int_{1}^{4} (3t^2 - 12t + 9) \\, dt $$\n",
        "$$ = \\frac{1}{3} \\int_{1}^{4} (3t^2 - 12t + 9) \\, dt $$\n",
        "\n",
        "Vamos calcular a integral:\n",
        "$$ \\int_{1}^{4} (3t^2 - 12t + 9) \\, dt $$\n",
        "\n",
        "Integrando termo a termo:\n",
        "\n",
        "1. $$ \\int 3t^2 \\, dt = t^3 $$\n",
        "2. $$ \\int -12t \\, dt = -6t^2 $$\n",
        "3. $$ \\int 9 \\, dt = 9t $$\n",
        "\n",
        "Então:\n",
        "\n",
        "$$ \\left[ t^3 - 6t^2 + 9t \\right]_{1}^{4} $$\n",
        "$$ = \\left[ (4)^3 - 6(4)^2 + 9(4) \\right] - \\left[ (1)^3 - 6(1)^2 + 9(1) \\right] $$\n",
        "$$ = \\left[ 64 - 96 + 36 \\right] - \\left[ 1 - 6 + 9 \\right] $$\n",
        "$$ = \\left[ 4 \\right] - \\left[ 4 \\right] $$\n",
        "$$ = 0 $$\n",
        "\n",
        "Portanto, a velocidade média é:\n",
        "\n",
        "$$ \\frac{0}{3} = 0 $$"
      ],
      "metadata": {
        "id": "fwRMIxwTSGn1"
      }
    },
    {
      "cell_type": "markdown",
      "source": [
        "# Questão 7 - Vale até 2 pontos\n",
        "\n",
        "Nos ítens a, b a seguir, encontre a família de antiderivadas das seguintes funções:\n",
        "\n",
        "a. $f(x) = 4x^3 - 6x^2 + 2x - 5 $.\n",
        "\n",
        "b. $f(x) = \\frac{1}{x} + e^x$ para todo $x\\neq 0$.\n",
        "\n",
        "\n"
      ],
      "metadata": {
        "id": "j_fo89ayUveW"
      }
    },
    {
      "cell_type": "markdown",
      "source": [
        "Questão 7\n",
        "\n",
        "*a.*\n",
        "\n",
        "$$( f(x) = 4x^3 - 6x^2 + 2x - 5)$$\n",
        "\n",
        "Para encontrar a família de antiderivadas de $f(x)$, precisamos integrar a função em relação a $x$:\n",
        "\n",
        "$$\n",
        "\\int f(x) \\, dx = \\int (4x^3 - 6x^2 + 2x - 5) \\, dx\n",
        "$$\n",
        "\n",
        "Integramos termo a termo:\n",
        "\n",
        "1. $$\\int 4x^3 \\, dx \\:$$\n",
        "$$\n",
        "\\int 4x^3 \\, dx = 4 \\int x^3 \\, dx = 4 \\left( \\frac{x^4}{4} \\right) = x^4\n",
        "$$\n",
        "\n",
        "2. $$\\int -6x^2 \\, dx:$$\n",
        "$$\n",
        "\\int -6x^2 \\, dx = -6 \\int x^2 \\, dx = -6 \\left( \\frac{x^3}{3} \\right) = -2x^3\n",
        "$$\n",
        "\n",
        "3. $$\\int 2x \\, dx:$$\n",
        "$$\n",
        "\\int 2x \\, dx = 2 \\int x \\, dx = 2 \\left( \\frac{x^2}{2} \\right) = x^2\n",
        "$$\n",
        "\n",
        "4. $$\\int -5 \\, dx:$$\n",
        "$$\n",
        "\\int -5 \\, dx = -5x\n",
        "$$\n",
        "\n",
        "Somamos todas essas partes e adicionamos a constante de integração $C$:\n",
        "\n",
        "$$\n",
        "\\int (4x^3 - 6x^2 + 2x - 5) \\, dx = x^4 - 2x^3 + x^2 - 5x + C\n",
        "$$\n",
        "\n",
        "Portanto, a família de antiderivadas de $f(x) = 4x^3 - 6x^2 + 2x - 5$ é:\n",
        "\n",
        "$$\n",
        "F(x) = x^4 - 2x^3 + x^2 - 5x + C\n",
        "$$\n",
        "\n",
        "*b.*\n",
        "\n",
        "$$( f(x) = \\frac{1}{x} + e^x)$$ para todo $$( x \\neq 0)$$\n",
        "\n",
        "Para encontrar a família de antiderivadas de $f(x)$, precisamos integrar a função em relação a $x$:\n",
        "\n",
        "$$\n",
        "\\int f(x) \\, dx = \\int \\left( \\frac{1}{x} + e^x \\right) \\, dx\n",
        "$$\n",
        "\n",
        "Integramos termo a termo:\n",
        "\n",
        "1. $$\\int \\frac{1}{x} \\, dx:$$\n",
        "$$\n",
        "\\int \\frac{1}{x} \\, dx = \\ln|x|\n",
        "$$\n",
        "\n",
        "2. $$\\int e^x \\, dx:$$\n",
        "$$\n",
        "\\int e^x \\, dx = e^x\n",
        "$$\n",
        "\n",
        "Somamos essas partes e adicionamos a constante de integração $C$:\n",
        "\n",
        "$$\n",
        "\\int \\left( \\frac{1}{x} + e^x \\right) \\, dx = \\ln|x| + e^x + C\n",
        "$$\n",
        "\n",
        "Portanto, a família de antiderivadas de $$( f(x) = \\frac{1}{x} + e^x)$$ é:\n",
        "\n",
        "$$\n",
        "F(x) = \\log(x) + e^x + C\n",
        "$$"
      ],
      "metadata": {
        "id": "wVLG3Us8YK2E"
      }
    }
  ]
}